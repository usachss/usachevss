{
 "cells": [
  {
   "cell_type": "code",
   "execution_count": 41,
   "metadata": {},
   "outputs": [
    {
     "name": "stdout",
     "output_type": "stream",
     "text": [
      "600\n",
      "--- 5.865925550460815 seconds ---\n"
     ]
    }
   ],
   "source": [
    "import matplotlib.pyplot as plot\n",
    "import numpy as np\n",
    "import sqlite3\n",
    "np.set_printoptions(suppress=True)\n",
    "k=0\n",
    "z=0\n",
    "w=0\n",
    "#input(i)\n",
    "#input(j)\n",
    "data = np.genfromtxt(\"norm.dat\", delimiter=\",\", usecols=(0,1,2,3,4))\n",
    "#print(data[i,1])\n",
    "dataKZ = np.genfromtxt(\"KZ.dat\", delimiter=\",\")\n",
    "conn = sqlite3.connect(\"D.db\")\n",
    "measur = (\n",
    "    (1, 'I1a', 1),\n",
    "    (2, 'I1b', 2),\n",
    "    (3, 'I1b', 3),\n",
    "    (4, 'I2a', 4),\n",
    "    (5, 'I2b', 5),\n",
    "    (6, 'I2c', 6),\n",
    ")\n",
    "rezh = (\n",
    "    (1, 'Norm'),\n",
    "    (2, 'KZ'),\n",
    ")\n",
    "cursor=conn.cursor()\n",
    "cursor.execute(\"DROP TABLE IF EXISTS DataPoints\")\n",
    "cursor.execute('''CREATE TABLE IF NOT EXISTS DataPoints (id INTEGER, time INTEGER, value STRING, measurment_id INTEGER, rezhim_id INTEGER)''')\n",
    "conn.commit()\n",
    "cursor.execute(\"DROP TABLE IF EXISTS measurments\")\n",
    "cursor.execute(\"CREATE TABLE measurments(Id, Name, sc_id)\")\n",
    "cursor.executemany(\"INSERT INTO measurments VALUES(?, ?, ?)\", measur)\n",
    "conn.commit()\n",
    "cursor.execute(\"DROP TABLE IF EXISTS rezhim\")\n",
    "cursor.execute(\"CREATE TABLE rezhim(Id, Name)\")\n",
    "cursor.executemany(\"INSERT INTO rezhim VALUES(?, ?)\", rezh)\n",
    "conn.commit()\n",
    "for i in range (6000):\n",
    "    if i%10==0:\n",
    "        k=k+1\n",
    "        z=data[i,1]\n",
    "        w=data[i,2]\n",
    "        cursor.execute(\"INSERT or REPLACE INTO DataPoints (id, time, value, measurment_id, rezhim_id) VALUES (?, ?, ?, ?, ?)\", (k,z,w,1,1))\n",
    "conn.commit()\n",
    "val=[]\n",
    "for row in cursor.execute('SELECT value FROM Datapoints'):\n",
    "   k=str(row)\n",
    "#    print (k[1:-2])\n",
    "   val.append(int(k[1:-2]))\n",
    "#print(val)\n",
    "tim=[]\n",
    "for row in cursor.execute('SELECT time FROM Datapoints'):\n",
    "    k=str(row)\n",
    "    #print (k[1:-2])\n",
    "    tim.append(int(k[1:-2]))\n",
    "#print(val)\n",
    "print(len(tim))\n",
    "import time\n",
    "import threading\n",
    "def koren(number): \n",
    "    fact = 1\n",
    "    for n in range(len(tim)): \n",
    "        fact *= n \n",
    "    return fact  \n",
    "from threading import Thread\n",
    "\n",
    "def schitalochka(massive, num):\n",
    "    for i in range(10):\n",
    "        k=massive[i]**num\n",
    "        #print(k)\n",
    "#thread1 = Thread(target=schitalochka, args=(tim, 200000,))\n",
    "#thread2 = Thread(target=schitalochka, args=(tim, 200000,))\n",
    "#start_time = time.time()\n",
    "#thread1.start()\n",
    "#thread1.join()\n",
    "#start_time1 = time.time()\n",
    "#thread2.start()\n",
    "#thread2.join()\n",
    "#start_time2 = time.time()\n",
    "#print(\"--- %s seconds ---\" % (start_time1 - start_time))\n",
    "#print(\"--- %s seconds ---\" % (start_time2 - start_time1))\n",
    "thread1 = Thread(target=schitalochka, args=(tim, 400000,))\n",
    "thread2 = Thread(target=schitalochka, args=(val, 400000,))\n",
    "start_time = time.time()\n",
    "thread1.start()\n",
    "\n",
    "#start_time1 = time.time()\n",
    "thread2.start()\n",
    "thread1.join()\n",
    "thread2.join()\n",
    "start_time2 = time.time()\n",
    "#print(\"--- %s seconds ---\" % (start_time1 - start_time))\n",
    "print(\"--- %s seconds ---\" % (start_time2 - start_time))"
   ]
  },
  {
   "cell_type": "code",
   "execution_count": 42,
   "metadata": {},
   "outputs": [
    {
     "name": "stdout",
     "output_type": "stream",
     "text": [
      "--- 5.915705442428589 seconds ---\n"
     ]
    }
   ],
   "source": [
    "thread1 = Thread(target=schitalochka, args=(tim, 400000,))\n",
    "thread2 = Thread(target=schitalochka, args=(val, 400000,))\n",
    "start_time = time.time()\n",
    "thread1.start()\n",
    "thread1.join()\n",
    "start_time1 = time.time()\n",
    "thread2.start()\n",
    "thread2.join()\n",
    "start_time2 = time.time()\n",
    "#print(\"--- %s seconds ---\" % (start_time1 - start_time))\n",
    "#print(\"--- %s seconds ---\" % (start_time2 - start_time1))\n",
    "print(\"--- %s seconds ---\" % (start_time2 - start_time1+start_time1 - start_time))"
   ]
  },
  {
   "cell_type": "code",
   "execution_count": 47,
   "metadata": {},
   "outputs": [
    {
     "name": "stdout",
     "output_type": "stream",
     "text": [
      "--- 5.786709308624268 seconds ---\n"
     ]
    }
   ],
   "source": [
    "start_time = time.time()\n",
    "for i in range(10):\n",
    "    num=400000\n",
    "    k=tim[i]**num\n",
    "    v=val[i]**num\n",
    "    \n",
    "start_time2 = time.time()    \n",
    "print(\"--- %s seconds ---\" % (start_time2 - start_time))"
   ]
  },
  {
   "cell_type": "code",
   "execution_count": null,
   "metadata": {
    "collapsed": true
   },
   "outputs": [],
   "source": []
  }
 ],
 "metadata": {
  "kernelspec": {
   "display_name": "Python [default]",
   "language": "python",
   "name": "python3"
  },
  "language_info": {
   "codemirror_mode": {
    "name": "ipython",
    "version": 3
   },
   "file_extension": ".py",
   "mimetype": "text/x-python",
   "name": "python",
   "nbconvert_exporter": "python",
   "pygments_lexer": "ipython3",
   "version": "3.5.3"
  }
 },
 "nbformat": 4,
 "nbformat_minor": 2
}
